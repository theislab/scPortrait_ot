{
 "cells": [
  {
   "cell_type": "code",
   "execution_count": 1,
   "id": "f6a28128-3dcc-4c05-b6ae-a56a8afc033f",
   "metadata": {},
   "outputs": [],
   "source": [
    "%load_ext autoreload\n",
    "%autoreload 2"
   ]
  },
  {
   "cell_type": "code",
   "execution_count": 70,
   "id": "06c63699-6576-4c17-96ba-cc14fae78d1f",
   "metadata": {},
   "outputs": [],
   "source": [
    "from hydra import initialize, compose\n",
    "from omegaconf import OmegaConf\n",
    "from pathlib import Path\n",
    "\n",
    "import sys \n",
    "sys.path.insert(0, \"../../../src\")\n",
    "\n",
    "import numpy as np\n",
    "from sklearn.neighbors import NearestNeighbors, KNeighborsClassifier\n",
    "import pandas as pd\n",
    "import scanpy as sc\n",
    "import matplotlib.pyplot as plt\n",
    "import seaborn as sns\n",
    "\n",
    "from dataloader import SingleCellAndCodexDataset \n",
    "from model import FlowMatchingModelWrapper\n",
    "from torch.utils.data import random_split\n",
    "import torch\n",
    "from torch.utils.data import Dataset, DataLoader\n",
    "from pytorch_lightning.callbacks import ModelCheckpoint\n",
    "from pytorch_lightning.loggers import WandbLogger\n",
    "from pytorch_lightning import Trainer\n",
    "\n",
    "plt.rcParams['figure.figsize'] = (3, 3) "
   ]
  },
  {
   "cell_type": "markdown",
   "id": "bd6457ce-21c6-429c-bb5f-f161be6a2231",
   "metadata": {},
   "source": [
    "Initialize configuration dict"
   ]
  },
  {
   "cell_type": "code",
   "execution_count": 71,
   "id": "b115b8ed-cb94-486f-a209-14e0c17f5d65",
   "metadata": {},
   "outputs": [
    {
     "name": "stderr",
     "output_type": "stream",
     "text": [
      "/tmp/ipykernel_2610746/3711289577.py:1: UserWarning: \n",
      "The version_base parameter is not specified.\n",
      "Please specify a compatability version level, or None.\n",
      "Will assume defaults for version 1.1\n",
      "  with initialize(config_path=\"../../../configs/\"):\n"
     ]
    }
   ],
   "source": [
    "with initialize(config_path=\"../../../configs/\"):\n",
    "    # Step 2: Compose the configuration\n",
    "    config_dict = compose(config_name=\"train\",\n",
    "                          overrides=[\"datamodule=tonsilitis_cite\"])  "
   ]
  },
  {
   "cell_type": "markdown",
   "id": "c0ace9d8-173c-499d-b073-b4d69e1be1a3",
   "metadata": {},
   "source": [
    "Model"
   ]
  },
  {
   "cell_type": "code",
   "execution_count": 72,
   "id": "1081a3f7-c8fe-40b0-b3ac-91cb301dff54",
   "metadata": {},
   "outputs": [],
   "source": [
    "dataset = SingleCellAndCodexDataset(config_dict.datamodule.rna_adata_path, \n",
    "                                        config_dict.datamodule.codex_adata_path, \n",
    "                                        config_dict.datamodule.label_columns, \n",
    "                                        config_dict.datamodule.obsm_key_rna, \n",
    "                                        config_dict.datamodule.obsm_key_codex) "
   ]
  },
  {
   "cell_type": "code",
   "execution_count": 73,
   "id": "4e49de76-edc9-4694-bf08-db6282424a1d",
   "metadata": {},
   "outputs": [],
   "source": [
    "model = FlowMatchingModelWrapper(input_dim=dataset.input_dim,\n",
    "                                    hidden_dim=config_dict.model.hidden_dim,\n",
    "                                    num_hidden_layers=config_dict.model.num_hidden_layers,\n",
    "                                    time_embedding_dim=config_dict.model.time_embedding_dim,\n",
    "                                    source_condition_dim=dataset.source_dim, \n",
    "                                    use_batchnorm=config_dict.model.use_batchnorm,\n",
    "                                    sigma=config_dict.model.sigma, \n",
    "                                    flavor=config_dict.model.flavor, \n",
    "                                    learning_rate=config_dict.model.learning_rate, \n",
    "                                    weight_decay=config_dict.model.weight_decay, \n",
    "                                    distance=config_dict.model.distance)"
   ]
  },
  {
   "cell_type": "markdown",
   "id": "f845378a-d546-4030-9f19-bfda6a6bc38e",
   "metadata": {},
   "source": [
    "Checkpoints"
   ]
  },
  {
   "cell_type": "markdown",
   "id": "696d24c8-3b88-4777-a6b8-520e11bb4625",
   "metadata": {
    "scrolled": true
   },
   "source": [
    "## Collect trained model"
   ]
  },
  {
   "cell_type": "code",
   "execution_count": 74,
   "id": "3bd09545-2482-4aae-a7ae-5f59dbe5c992",
   "metadata": {},
   "outputs": [],
   "source": [
    "ckpts = torch.load(\"/lustre/groups/ml01/workspace/alessandro.palma/scportrait/experiements/cool-terrain-11/checkpoints/last.ckpt\")"
   ]
  },
  {
   "cell_type": "code",
   "execution_count": 75,
   "id": "105774a1-6508-4f08-8e0e-16aea5a5ef29",
   "metadata": {},
   "outputs": [
    {
     "data": {
      "text/plain": [
       "<All keys matched successfully>"
      ]
     },
     "execution_count": 75,
     "metadata": {},
     "output_type": "execute_result"
    }
   ],
   "source": [
    "model.load_state_dict(ckpts[\"state_dict\"])"
   ]
  },
  {
   "cell_type": "markdown",
   "id": "78136bef-ebf8-412b-8d04-2f1c827d25db",
   "metadata": {},
   "source": [
    "### Read CODEX data"
   ]
  },
  {
   "cell_type": "code",
   "execution_count": 76,
   "id": "f6715239-c489-4908-8112-4f84cc23f697",
   "metadata": {},
   "outputs": [],
   "source": [
    "adata_codex = sc.read_h5ad(\"/home/icb/alessandro.palma/environment/scportrait_ot/project_folder/data/codex/citeseq/250830_generated_cells_processed.h5ad\")"
   ]
  },
  {
   "cell_type": "markdown",
   "id": "378dff0c-d703-4557-8712-67741b9eb37e",
   "metadata": {},
   "source": [
    "### Read scRNA-seq data"
   ]
  },
  {
   "cell_type": "code",
   "execution_count": 77,
   "id": "4287a686-2900-4969-8d9c-fcae4237f4b7",
   "metadata": {},
   "outputs": [],
   "source": [
    "adata_scrnaseq = sc.read_h5ad(\"/lustre/groups/ml01/workspace/alessandro.palma/scportrait/data/citeseq/CITEseq_protein_processed.h5ad\")"
   ]
  },
  {
   "cell_type": "markdown",
   "id": "4ec81c3c-fd6b-4caf-8c4d-63643d81f640",
   "metadata": {},
   "source": [
    "## Perform pushforward "
   ]
  },
  {
   "cell_type": "code",
   "execution_count": 78,
   "id": "44e70580-ddfe-423d-8c99-432c880b10d8",
   "metadata": {},
   "outputs": [],
   "source": [
    "# Step 1: Wrap the CODEX data in a PyTorch Dataset\n",
    "class CodexDataset(Dataset):\n",
    "    def __init__(self, data):\n",
    "        self.data = torch.from_numpy(data.X).float()\n",
    "\n",
    "    def __len__(self):\n",
    "        return self.data.shape[0]\n",
    "\n",
    "    def __getitem__(self, idx):\n",
    "        return self.data[idx]\n",
    "\n",
    "# Step 2: Define cluster assignment via nearest neighbors\n",
    "def cluster_assignment(X_hat, X_true, true_annot, n_neighs=1):\n",
    "    nn_model = KNeighborsClassifier(n_neighbors=n_neighs, algorithm='auto')\n",
    "    nn_model.fit(X_true, true_annot)\n",
    "    indices = nn_model.predict(X_hat)\n",
    "    return indices"
   ]
  },
  {
   "cell_type": "code",
   "execution_count": 79,
   "id": "f2510923-6d0e-40bd-a2fd-a0e41680750f",
   "metadata": {
    "scrolled": true
   },
   "outputs": [],
   "source": [
    "# Step 3: Prepare data and loader\n",
    "codex_dataset = CodexDataset(adata_codex)\n",
    "codex_loader = DataLoader(codex_dataset, batch_size=1000, shuffle=False)\n",
    "\n",
    "real_annot = np.array(adata_scrnaseq.obs.annotation_figure_1)\n",
    "X_true = adata_scrnaseq.obsm[\"X_harmony_RNA\"]  # assumed (n_cells_rna, n_features)\n",
    "\n",
    "# Step 4: Run inference and assignment in batches\n",
    "assigned_annots = []\n",
    "X_harmony_hat = []\n",
    "\n",
    "for batch in codex_loader:\n",
    "    X_codex = batch  # already a torch tensor\n",
    "    X_rna_hat = model.pushforward(\n",
    "        x0=X_codex,\n",
    "        n_timesteps=2,\n",
    "        solver=\"dopri5\"\n",
    "    ).detach().cpu().numpy()\n",
    "\n",
    "    batch_annots = cluster_assignment(X_rna_hat, X_true, real_annot, n_neighs=5)\n",
    "    \n",
    "    assigned_annots.append(batch_annots)\n",
    "    X_harmony_hat.append(X_rna_hat)\n",
    "    \n",
    "# Step 5: Concatenate all annotations\n",
    "assigned_annots = np.concatenate(assigned_annots)\n",
    "X_harmony_hat = np.concatenate(X_harmony_hat, axis=0)\n",
    "\n",
    "adata_codex.obs[\"cell_type\"] = assigned_annots\n",
    "adata_codex.obsm[\"predicted_harmony\"] = X_harmony_hat"
   ]
  },
  {
   "cell_type": "markdown",
   "id": "32551e04-da52-4487-aa4e-cf4d5a0a1a30",
   "metadata": {},
   "source": [
    "Examine results"
   ]
  },
  {
   "cell_type": "code",
   "execution_count": 80,
   "id": "0bbcaec4-3570-4dfd-a2c8-49bf1c8ec292",
   "metadata": {},
   "outputs": [],
   "source": [
    "sc.tl.pca(adata_codex)\n",
    "sc.pp.neighbors(adata_codex)\n",
    "sc.tl.umap(adata_codex)"
   ]
  },
  {
   "cell_type": "code",
   "execution_count": 81,
   "id": "22f911cd-7c5c-4fda-bb3b-855ae266db48",
   "metadata": {
    "scrolled": true
   },
   "outputs": [
    {
     "data": {
      "image/png": "[encoded data removed]",
      "text/plain": [
       "<Figure size 300x300 with 1 Axes>"
      ]
     },
     "metadata": {},
     "output_type": "display_data"
    }
   ],
   "source": [
    "sc.pl.umap(adata_codex,color=\"cell_type\")"
   ]
  },
  {
   "cell_type": "markdown",
   "id": "0f266187-4325-4b10-99ed-0c1d86107d65",
   "metadata": {},
   "source": [
    "## Add decoded genes "
   ]
  },
  {
   "cell_type": "code",
   "execution_count": 82,
   "id": "0681a896-f48d-4e5b-9924-4cb027bbb006",
   "metadata": {},
   "outputs": [],
   "source": [
    "sys.path.insert(0, \"/home/icb/alessandro.palma/environment/scportrait_ot/src\")\n",
    "from dataloader import EmbeddingDecoderDataset\n",
    "from decoding_modules import DecoderFromHarmony\n",
    "from pathlib import Path"
   ]
  },
  {
   "cell_type": "markdown",
   "id": "dcf3df7e-df82-49ca-b2cd-69f41ca74472",
   "metadata": {},
   "source": [
    "#### HVGs"
   ]
  },
  {
   "cell_type": "code",
   "execution_count": 83,
   "id": "60357368-2570-4dcd-b3c2-ce1989a8190c",
   "metadata": {},
   "outputs": [],
   "source": [
    "dataset = EmbeddingDecoderDataset(adata_path=\"/home/icb/alessandro.palma/environment/scportrait_ot/project_folder/data/citeseq/CITEseq_rna_processed.h5ad\", \n",
    "                                     count_label=\"X_normalized_log\", \n",
    "                                     embedding_label=\"X_harmony_RNA\",\n",
    "                                     batch_label=\"donor_id\")"
   ]
  },
  {
   "cell_type": "code",
   "execution_count": 84,
   "id": "fe5f78ed-6b3d-45ea-9448-18ef8875b660",
   "metadata": {},
   "outputs": [
    {
     "data": {
      "text/plain": [
       "<All keys matched successfully>"
      ]
     },
     "execution_count": 84,
     "metadata": {},
     "output_type": "execute_result"
    }
   ],
   "source": [
    "decoder_model = DecoderFromHarmony(input_dim=dataset.input_dim, \n",
    "                                   output_dim=dataset.output_dim,\n",
    "                                   dims=[256, 256],\n",
    "                                   batch_norm=False, \n",
    "                                   dropout=False,\n",
    "                                   dropout_p=0.0, \n",
    "                                   batch_encoding=False, \n",
    "                                   batch_encoding_dim=None,\n",
    "                                   learning_rate=1e-3, \n",
    "                                   likelihood=\"gaussian\"\n",
    "                                  )\n",
    "\n",
    "decoder_model.load_state_dict(torch.load(\"/home/icb/alessandro.palma/environment/scportrait_ot/project_folder/experiements/decoder_cite_log/generous-sunset-3/checkpoints/last.ckpt\")[\"state_dict\"])"
   ]
  },
  {
   "cell_type": "code",
   "execution_count": 85,
   "id": "32fb0aeb-851c-4682-8db6-6a6e5af3b52d",
   "metadata": {},
   "outputs": [],
   "source": [
    "with torch.no_grad():\n",
    "    X_hat = decoder_model.decoder(torch.from_numpy(adata_codex.obsm[\"predicted_harmony\"]))"
   ]
  },
  {
   "cell_type": "code",
   "execution_count": 86,
   "id": "c94cb07c-e78f-41f0-8ade-154d4bb8a7d0",
   "metadata": {},
   "outputs": [
    {
     "data": {
      "text/plain": [
       "AnnData object with n_obs × n_vars = 200 × 31\n",
       "    obs: 'label', 'cell_type'\n",
       "    uns: 'pca', 'neighbors', 'umap', 'cell_type_colors'\n",
       "    obsm: 'predicted_harmony', 'X_pca', 'X_umap', 'X_gexp_log'\n",
       "    varm: 'PCs'\n",
       "    obsp: 'distances', 'connectivities'"
      ]
     },
     "execution_count": 86,
     "metadata": {},
     "output_type": "execute_result"
    }
   ],
   "source": [
    "adata_codex.obsm[\"X_gexp_log\"] = X_hat.detach().cpu().numpy()\n",
    "adata_codex"
   ]
  },
  {
   "cell_type": "markdown",
   "id": "67f2886e-bc23-49c4-847f-bd2af2988eac",
   "metadata": {},
   "source": [
    "#### Whole genome "
   ]
  },
  {
   "cell_type": "code",
   "execution_count": null,
   "id": "2d48b07e-d872-430f-bbf1-49f3e88a609e",
   "metadata": {},
   "outputs": [],
   "source": [
    "dataset = EmbeddingDecoderDataset(adata_path=\"/home/icb/alessandro.palma/environment/scportrait_ot/project_folder/data/citeseq/CITEseq_rna_processed_full_genome.h5ad\", \n",
    "                                     count_label=\"X_normalized_log\", \n",
    "                                     embedding_label=\"X_harmony_RNA\",\n",
    "                                     batch_label=\"donor_id\")"
   ]
  },
  {
   "cell_type": "code",
   "execution_count": null,
   "id": "178ee3be-b1d7-4bfe-bd0d-6960add3c3df",
   "metadata": {},
   "outputs": [],
   "source": [
    "decoder_model = DecoderFromHarmony(input_dim=dataset.input_dim, \n",
    "                                   output_dim=dataset.output_dim,\n",
    "                                   dims=[256, 256],\n",
    "                                   batch_norm=False, \n",
    "                                   dropout=False,\n",
    "                                   dropout_p=0.0, \n",
    "                                   batch_encoding=False, \n",
    "                                   batch_encoding_dim=None,\n",
    "                                   learning_rate=1e-3, \n",
    "                                   likelihood=\"gaussian\"\n",
    "                                  )\n",
    "\n",
    "decoder_model.load_state_dict(torch.load(\"/home/icb/alessandro.palma/environment/scportrait_ot/project_folder/experiements/decoder_cite_log_whole_genome/pretty-music-1/checkpoints/last.ckpt\")[\"state_dict\"])"
   ]
  },
  {
   "cell_type": "code",
   "execution_count": null,
   "id": "67572476-8a49-4d03-8676-907f8aac8cc9",
   "metadata": {},
   "outputs": [],
   "source": [
    "with torch.no_grad():\n",
    "    X_hat = decoder_model.decoder(torch.from_numpy(adata_codex.obsm[\"predicted_harmony\"]))"
   ]
  },
  {
   "cell_type": "code",
   "execution_count": null,
   "id": "9ccd26ba-ed38-4a26-a985-b46e9b25e570",
   "metadata": {},
   "outputs": [],
   "source": [
    "adata_codex.obsm[\"X_gexp_log_whole_genome\"] = X_hat.detach().cpu().numpy()\n",
    "adata_codex"
   ]
  },
  {
   "cell_type": "markdown",
   "id": "700439c9-2c36-4c63-a171-fd194befca9f",
   "metadata": {},
   "source": [
    "## Add var names "
   ]
  },
  {
   "cell_type": "code",
   "execution_count": null,
   "id": "d7f3334c-f201-420b-8f10-0ef58297448a",
   "metadata": {},
   "outputs": [],
   "source": [
    "adata_cite = sc.read_h5ad(\"/home/icb/alessandro.palma/environment/scportrait_ot/project_folder/data/citeseq/CITEseq_rna.h5ad\")"
   ]
  },
  {
   "cell_type": "code",
   "execution_count": null,
   "id": "563bb5a9-2c70-409d-9fd2-72804fc2e43d",
   "metadata": {
    "scrolled": true
   },
   "outputs": [],
   "source": [
    "list(adata_cite.var.index)"
   ]
  },
  {
   "cell_type": "code",
   "execution_count": null,
   "id": "ed2702ea-d1a1-4138-bc96-84c4003f2c10",
   "metadata": {},
   "outputs": [],
   "source": [
    "adata_codex.uns[\"var_names_hvg\"] = list(adata_cite.var.index)"
   ]
  },
  {
   "cell_type": "code",
   "execution_count": null,
   "id": "10a0af8c-38c6-4f53-acfc-1da369efad89",
   "metadata": {},
   "outputs": [],
   "source": [
    "adata_codex.uns[\"var_names_whole_genome\"] = list(adata_cite.raw.var.index)"
   ]
  },
  {
   "cell_type": "code",
   "execution_count": null,
   "id": "8e18a2c6-81eb-4363-b38b-8a82bac1fc85",
   "metadata": {},
   "outputs": [],
   "source": [
    "len(adata_codex.uns[\"var_names_hvg\"])"
   ]
  },
  {
   "cell_type": "code",
   "execution_count": null,
   "id": "3874fbef-bb62-47e2-8dd8-e5a28b9cdb26",
   "metadata": {},
   "outputs": [],
   "source": [
    "len(adata_codex.uns[\"var_names_whole_genome\"])"
   ]
  },
  {
   "cell_type": "code",
   "execution_count": null,
   "id": "61187cf4-a512-4052-b641-92629ceca840",
   "metadata": {},
   "outputs": [],
   "source": [
    "adata_codex.write_h5ad(\"/home/icb/alessandro.palma/environment/scportrait_ot/project_folder/data/predicted_codex/predicted_ct_tonsilitis_decoded_generated.h5ad\")"
   ]
  },
  {
   "cell_type": "code",
   "execution_count": null,
   "id": "199560f6-7e86-49e7-afe6-dace7f488572",
   "metadata": {},
   "outputs": [],
   "source": []
  }
 ],
 "metadata": {
  "kernelspec": {
   "display_name": "Python 3 (ipykernel)",
   "language": "python",
   "name": "python3"
  },
  "language_info": {
   "codemirror_mode": {
    "name": "ipython",
    "version": 3
   },
   "file_extension": ".py",
   "mimetype": "text/x-python",
   "name": "python",
   "nbconvert_exporter": "python",
   "pygments_lexer": "ipython3",
   "version": "3.10.16"
  }
 },
 "nbformat": 4,
 "nbformat_minor": 5
}
