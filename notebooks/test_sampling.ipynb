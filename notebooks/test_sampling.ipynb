{
 "cells": [
  {
   "cell_type": "code",
   "execution_count": 17,
   "id": "8e876492-4c4a-4321-aac6-3ea31837d7a0",
   "metadata": {},
   "outputs": [],
   "source": [
    "import numpy as np \n",
    "import scanpy as sc"
   ]
  },
  {
   "cell_type": "code",
   "execution_count": 18,
   "id": "9a8e9860-b508-466e-a3bd-100810b617d6",
   "metadata": {},
   "outputs": [],
   "source": [
    "adata = sc.read_h5ad(\"/home/icb/alessandro.palma/environment/scportrait_ot/project_folder/data/scrnaseq/sce_converted_processed_discovery.h5ad\")"
   ]
  },
  {
   "cell_type": "code",
   "execution_count": 19,
   "id": "2f96a49d-d25b-4b65-b1ee-932093c3b25e",
   "metadata": {},
   "outputs": [],
   "source": [
    "unique_ct = np.unique(adata.obs.annotation_figure_1, return_counts=True)"
   ]
  },
  {
   "cell_type": "code",
   "execution_count": 20,
   "id": "a48a32c5-62b0-48c0-a428-2eaec5ce961e",
   "metadata": {},
   "outputs": [],
   "source": [
    "freq_ct = dict(zip(unique_ct[0], unique_ct[1]))"
   ]
  },
  {
   "cell_type": "code",
   "execution_count": 29,
   "id": "4d2a80db-9dac-4099-9473-371f86561e43",
   "metadata": {},
   "outputs": [],
   "source": [
    "inverse_freq = {key: 1/(val/adata.shape[0]) for key, val in freq_ct.items()}"
   ]
  },
  {
   "cell_type": "code",
   "execution_count": 37,
   "id": "eefcb23f-d4b3-4532-b751-37f556139389",
   "metadata": {},
   "outputs": [
    {
     "data": {
      "text/plain": [
       "{'Activated NBC': np.float64(19.215151072836083),\n",
       " 'CD4 T': np.float64(6.76323563410311),\n",
       " 'CD8 T': np.float64(54.45418821096174),\n",
       " 'DC': np.float64(265.40927419354836),\n",
       " 'DN': np.float64(379.3746397694525),\n",
       " 'FDC': np.float64(268.6591836734694),\n",
       " 'GCBC': np.float64(3.6203454155436994),\n",
       " 'Granulocytes': np.float64(1676.9808917197452),\n",
       " 'ILC': np.float64(805.1559633027522),\n",
       " 'MBC': np.float64(5.7998898557109815),\n",
       " 'Mast': np.float64(6582.15),\n",
       " 'Mono/Macro': np.float64(194.59423503325942),\n",
       " 'NBC': np.float64(4.983551324033239),\n",
       " 'NK': np.float64(778.9526627218935),\n",
       " 'Naive CD4 T': np.float64(19.680520257138586),\n",
       " 'Naive CD8 T': np.float64(59.419092755585645),\n",
       " 'PC': np.float64(29.012231404958676),\n",
       " 'PDC': np.float64(546.2365145228216),\n",
       " 'cycling FDC': np.float64(1180.6547085201794),\n",
       " 'cycling T': np.float64(141.5516129032258),\n",
       " 'cycling myeloid': np.float64(2714.288659793814),\n",
       " 'epithelial': np.float64(729.3240997229917),\n",
       " 'preB/T': np.float64(3210.80487804878)}"
      ]
     },
     "execution_count": 37,
     "metadata": {},
     "output_type": "execute_result"
    }
   ],
   "source": [
    "inverse_freq"
   ]
  },
  {
   "cell_type": "code",
   "execution_count": 35,
   "id": "1cf4fd0c-51cb-42cf-80b7-6f4763aa40ef",
   "metadata": {
    "scrolled": true
   },
   "outputs": [
    {
     "data": {
      "text/html": [
       "<div>\n",
       "<style scoped>\n",
       "    .dataframe tbody tr th:only-of-type {\n",
       "        vertical-align: middle;\n",
       "    }\n",
       "\n",
       "    .dataframe tbody tr th {\n",
       "        vertical-align: top;\n",
       "    }\n",
       "\n",
       "    .dataframe thead th {\n",
       "        text-align: right;\n",
       "    }\n",
       "</style>\n",
       "<table border=\"1\" class=\"dataframe\">\n",
       "  <thead>\n",
       "    <tr style=\"text-align: right;\">\n",
       "      <th></th>\n",
       "      <th>barcode</th>\n",
       "      <th>donor_id</th>\n",
       "      <th>gem_id</th>\n",
       "      <th>library_name</th>\n",
       "      <th>assay</th>\n",
       "      <th>sex</th>\n",
       "      <th>age</th>\n",
       "      <th>age_group</th>\n",
       "      <th>hospital</th>\n",
       "      <th>cohort_type</th>\n",
       "      <th>...</th>\n",
       "      <th>annotation_20220619</th>\n",
       "      <th>annotation_20230508</th>\n",
       "      <th>annotation_20230508_probability</th>\n",
       "      <th>UMAP_1_level_1</th>\n",
       "      <th>UMAP_2_level_1</th>\n",
       "      <th>UMAP_1_20220215</th>\n",
       "      <th>UMAP_2_20220215</th>\n",
       "      <th>UMAP_1_20230508</th>\n",
       "      <th>UMAP_2_20230508</th>\n",
       "      <th>type</th>\n",
       "    </tr>\n",
       "  </thead>\n",
       "  <tbody>\n",
       "    <tr>\n",
       "      <th>bw94nf57_vm85woki_AAAGTGACAAGGAGTC-1</th>\n",
       "      <td>bw94nf57_vm85woki_AAAGTGACAAGGAGTC-1</td>\n",
       "      <td>BCLL-10-T</td>\n",
       "      <td>bw94nf57_vm85woki</td>\n",
       "      <td>BCLL_10_T_1_hashing</td>\n",
       "      <td>3P</td>\n",
       "      <td>male</td>\n",
       "      <td>3.0</td>\n",
       "      <td>child</td>\n",
       "      <td>CIMA</td>\n",
       "      <td>discovery</td>\n",
       "      <td>...</td>\n",
       "      <td>ITGAX Slancytes</td>\n",
       "      <td>ITGAX Slan-like</td>\n",
       "      <td>NaN</td>\n",
       "      <td>1.199969</td>\n",
       "      <td>5.404568</td>\n",
       "      <td>-8.939091</td>\n",
       "      <td>2.285527</td>\n",
       "      <td>5.814415</td>\n",
       "      <td>12.924826</td>\n",
       "      <td>discovery_3P</td>\n",
       "    </tr>\n",
       "  </tbody>\n",
       "</table>\n",
       "<p>1 rows × 40 columns</p>\n",
       "</div>"
      ],
      "text/plain": [
       "                                                                   barcode  \\\n",
       "bw94nf57_vm85woki_AAAGTGACAAGGAGTC-1  bw94nf57_vm85woki_AAAGTGACAAGGAGTC-1   \n",
       "\n",
       "                                       donor_id             gem_id  \\\n",
       "bw94nf57_vm85woki_AAAGTGACAAGGAGTC-1  BCLL-10-T  bw94nf57_vm85woki   \n",
       "\n",
       "                                             library_name assay   sex  age  \\\n",
       "bw94nf57_vm85woki_AAAGTGACAAGGAGTC-1  BCLL_10_T_1_hashing    3P  male  3.0   \n",
       "\n",
       "                                     age_group hospital cohort_type  ...  \\\n",
       "bw94nf57_vm85woki_AAAGTGACAAGGAGTC-1     child     CIMA   discovery  ...   \n",
       "\n",
       "                                     annotation_20220619 annotation_20230508  \\\n",
       "bw94nf57_vm85woki_AAAGTGACAAGGAGTC-1     ITGAX Slancytes     ITGAX Slan-like   \n",
       "\n",
       "                                     annotation_20230508_probability  \\\n",
       "bw94nf57_vm85woki_AAAGTGACAAGGAGTC-1                             NaN   \n",
       "\n",
       "                                      UMAP_1_level_1  UMAP_2_level_1  \\\n",
       "bw94nf57_vm85woki_AAAGTGACAAGGAGTC-1        1.199969        5.404568   \n",
       "\n",
       "                                      UMAP_1_20220215  UMAP_2_20220215  \\\n",
       "bw94nf57_vm85woki_AAAGTGACAAGGAGTC-1        -8.939091         2.285527   \n",
       "\n",
       "                                      UMAP_1_20230508  UMAP_2_20230508  \\\n",
       "bw94nf57_vm85woki_AAAGTGACAAGGAGTC-1         5.814415        12.924826   \n",
       "\n",
       "                                              type  \n",
       "bw94nf57_vm85woki_AAAGTGACAAGGAGTC-1  discovery_3P  \n",
       "\n",
       "[1 rows x 40 columns]"
      ]
     },
     "execution_count": 35,
     "metadata": {},
     "output_type": "execute_result"
    }
   ],
   "source": [
    "adata[0].obs"
   ]
  },
  {
   "cell_type": "code",
   "execution_count": 53,
   "id": "045e8ca1-7e7f-4e63-b0ff-bfd6b110ef68",
   "metadata": {
    "scrolled": true
   },
   "outputs": [],
   "source": [
    "labels = adata.obs[\"annotation_figure_1\"].values"
   ]
  },
  {
   "cell_type": "code",
   "execution_count": 56,
   "id": "6aa9cc53-4859-48d2-9748-8506aa72f13e",
   "metadata": {},
   "outputs": [],
   "source": [
    "unique_labels = np.unique(labels)"
   ]
  },
  {
   "cell_type": "code",
   "execution_count": 57,
   "id": "21d38c96-f2bf-4f88-8477-07822bc63414",
   "metadata": {},
   "outputs": [
    {
     "data": {
      "text/plain": [
       "array(['Activated NBC', 'CD4 T', 'CD8 T', 'DC', 'DN', 'FDC', 'GCBC',\n",
       "       'Granulocytes', 'ILC', 'MBC', 'Mast', 'Mono/Macro', 'NBC', 'NK',\n",
       "       'Naive CD4 T', 'Naive CD8 T', 'PC', 'PDC', 'cycling FDC',\n",
       "       'cycling T', 'cycling myeloid', 'epithelial', 'preB/T'],\n",
       "      dtype=object)"
      ]
     },
     "execution_count": 57,
     "metadata": {},
     "output_type": "execute_result"
    }
   ],
   "source": [
    "unique_labels"
   ]
  },
  {
   "cell_type": "code",
   "execution_count": 58,
   "id": "692edbc5-e8b8-4b99-b5b6-444da43bf0d1",
   "metadata": {},
   "outputs": [],
   "source": [
    "sampled_label = np.random.choice(unique_labels)"
   ]
  },
  {
   "cell_type": "code",
   "execution_count": 59,
   "id": "63a2cc48-deb7-404b-8467-83d2cb73b3c8",
   "metadata": {},
   "outputs": [],
   "source": [
    "matching_indices = np.where(labels == sampled_label)[0]"
   ]
  },
  {
   "cell_type": "code",
   "execution_count": 61,
   "id": "5e42dccd-235c-471b-9adc-83572a6f116a",
   "metadata": {
    "scrolled": true
   },
   "outputs": [
    {
     "data": {
      "text/plain": [
       "(array([  2639,   2640,   2641,   2642,   2643,   2644,   2645,   2646,\n",
       "          2647,   2648,   2649,   2650,   2651,   2652,   2653,   2654,\n",
       "          2655,   2656,   2657,   2658,   2659,   2660,   2661,   2662,\n",
       "          2663,   2664,   2665,   2666,   2667,   2668,   2669,   2670,\n",
       "          2671,   2672,   2673,   2674,   2675,   2676,   2677,   2678,\n",
       "          2679,   2680,   2681,   2682,   2683,   2684,   2685,   2686,\n",
       "          2687,   2688,   2689,   2690,   2691,   2692,   2693,   2694,\n",
       "          2695,   2696,   2697,   2698,   2699,   2700,   2701,   2702,\n",
       "          2703,   2704,   2705,   2706,   2707,   2708,   2709,   2710,\n",
       "          2711,   2712,   2713,   2714,   2715,   2716,   2717,   2718,\n",
       "          2719,   2720,   2721,   2722,   2723,   2724,   2725,   2726,\n",
       "          2727,   2728,   2729,   2730,   2731,   2732,   2733,   2734,\n",
       "          2735,   2736,   2737,   2738,   2739,   2740,   2741,   2742,\n",
       "          2743,   2744,   2745,   2746,   2747,   2748,   2749,   2750,\n",
       "          2751,   2752,   2753,   2754,   2755,   2756,   2757,   2758,\n",
       "          2759,   2760,   2761,   2762,   2763,   2764,   2765,   2766,\n",
       "          2767,   2768,   2769,   2770,   2771,   2772,   2773,   2774,\n",
       "          2775,   2776,   2777,   2778,   2779,   2780,   2781,   2782,\n",
       "          2783,   2784,   2785,   2786,   2787,   2788,   2789,   2790,\n",
       "          2791,   2792,   2793,   2794,   2795,   2796,   2797,   2798,\n",
       "          2799,   2800,   2801,   2802,   2803,   2804,   2805,   2806,\n",
       "          2807,   2808,   2809,   2810,   2811,   2812,   2813,   2814,\n",
       "          2815,   2816,   2817,   2818,   2819,   2820,   2821,   2822,\n",
       "          2823,   2824,   2825,   2826,   2827,   2828,   2829,   2830,\n",
       "          2831,   2832,   2833,   2834,   2835,   2836,   2837,   2838,\n",
       "          2839,   2840,   2841,   2842,   2843,   2844,   2845,   2846,\n",
       "          2847,   2848,   2849,   2850,   2851,   2852,   2853,   2854,\n",
       "          2855,   2856,   2857,   2858,   2859,   2860,   2861,   2862,\n",
       "          2863,   2864,   2865,   2866,   2867,   2868,   2869,   2870,\n",
       "          2871,   2872,   2873,   2874,   2875,   2876,   2877,   2878,\n",
       "          2879,   2880,   2881,   2882,   2883,   2884,   2885,   2886,\n",
       "          2887,   2888,   2889,   2890,   2891,   2892,   2893,   2894,\n",
       "          2895,   2896,   2897,   2898,   2899,   2900,   2901,   2902,\n",
       "          2903,   2904,   2905,   2906,   2907,   2908,   2909,   2910,\n",
       "          2911,   2912,   2913,   2914,   2915, 262988, 262989, 262990,\n",
       "        262991, 262992, 262993, 262994, 262995, 262996, 262997, 262998,\n",
       "        262999, 263000, 263001, 263002, 263003, 263004, 263005, 263006,\n",
       "        263007, 263008, 263009, 263010, 263011, 263012, 263013, 263014,\n",
       "        263015, 263016, 263017, 263018, 263019, 263020, 263021, 263022,\n",
       "        263023, 263024, 263025, 263026, 263027, 263028, 263029, 263030,\n",
       "        263031, 263032, 263033, 263034, 263035, 263036, 263037, 263038,\n",
       "        263039, 263040, 263041, 263042, 263043, 263044, 263045, 263046,\n",
       "        263047, 263048, 263049, 263050, 263051, 263052, 263053, 263054,\n",
       "        263055, 263056, 263057, 263058, 263059, 263060, 263061, 263062,\n",
       "        263063, 263064, 263065, 263066, 263067, 263068, 263069, 263070,\n",
       "        263071]),)"
      ]
     },
     "execution_count": 61,
     "metadata": {},
     "output_type": "execute_result"
    }
   ],
   "source": [
    "np.where(labels == sampled_label)"
   ]
  },
  {
   "cell_type": "code",
   "execution_count": null,
   "id": "336fdb65-a799-44eb-a947-69157e5aad28",
   "metadata": {},
   "outputs": [],
   "source": []
  }
 ],
 "metadata": {
  "kernelspec": {
   "display_name": "Python 3 (ipykernel)",
   "language": "python",
   "name": "python3"
  },
  "language_info": {
   "codemirror_mode": {
    "name": "ipython",
    "version": 3
   },
   "file_extension": ".py",
   "mimetype": "text/x-python",
   "name": "python",
   "nbconvert_exporter": "python",
   "pygments_lexer": "ipython3",
   "version": "3.10.16"
  }
 },
 "nbformat": 4,
 "nbformat_minor": 5
}
