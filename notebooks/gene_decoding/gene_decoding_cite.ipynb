{
 "cells": [
  {
   "cell_type": "code",
   "execution_count": 160,
   "id": "24b857cb-cff6-4f2a-8d67-0e8777e09a57",
   "metadata": {},
   "outputs": [],
   "source": [
    "import torch \n",
    "import numpy as np\n",
    "from scipy.sparse import csr_matrix\n",
    "\n",
    "import pandas as pd\n",
    "import scanpy as sc\n",
    "from torch.utils.data import random_split\n",
    "from torch.utils.data import Dataset\n",
    "from torch.utils.data import DataLoader\n",
    "from scvi.distributions import NegativeBinomial\n",
    "\n",
    "from pytorch_lightning.callbacks import ModelCheckpoint\n",
    "from pytorch_lightning.loggers import WandbLogger\n",
    "from pytorch_lightning import Trainer\n",
    "import torch.nn.functional as F\n",
    "\n",
    "import sys\n",
    "sys.path.insert(0, \"/home/icb/alessandro.palma/environment/scportrait_ot/src\")\n",
    "# sys.path.insert(0, \"../nfs/homedirs/pala/scportrait_ot/src\")\n",
    "\n",
    "from dataloader import EmbeddingDecoderDataset\n",
    "from decoding_modules import DecoderFromHarmony\n",
    "from pathlib import Path\n",
    "import matplotlib.pyplot as plt"
   ]
  },
  {
   "cell_type": "markdown",
   "id": "9bbe027d-1fc6-4f9b-93e1-eaf925ebf598",
   "metadata": {},
   "source": [
    "## Check type of counts in the CITE seq RNA-seq version"
   ]
  },
  {
   "cell_type": "code",
   "execution_count": 161,
   "id": "1181c523-b785-43f1-bfed-3d8a2a7c60b2",
   "metadata": {},
   "outputs": [
    {
     "name": "stderr",
     "output_type": "stream",
     "text": [
      "/home/icb/alessandro.palma/miniconda3/envs/sc_exp_design/lib/python3.10/site-packages/anndata/compat/__init__.py:363: FutureWarning: Moving element from .uns['neighbors']['distances'] to .obsp['distances'].\n",
      "\n",
      "This is where adjacency matrices should go now.\n",
      "  warn(\n"
     ]
    }
   ],
   "source": [
    "adata = sc.read_h5ad(\"/home/icb/alessandro.palma/environment/scportrait_ot/project_folder/data/citeseq/CITEseq_rna.h5ad\")"
   ]
  },
  {
   "cell_type": "code",
   "execution_count": 162,
   "id": "d3d54593-7fe6-4ea2-b689-a8c3403332ad",
   "metadata": {},
   "outputs": [
    {
     "data": {
      "text/plain": [
       "AnnData object with n_obs × n_vars = 42929 × 2000\n",
       "    obs: 'barcode', 'donor_id', 'subproject', 'gem_id', 'assay', 'sex', 'age', 'age_group', 'hospital', 'nCount_RNA', 'nCount_ADT', 'nFeature_ADT', 'nFeature_RNA', 'pct_mt', 'pct_ribosomal', 'scrublet_doublet_scores', 'scrublet_predicted_doublet', 'S.Score', 'G2M.Score', 'Phase', 'UMAP_1_20220215', 'UMAP_2_20220215', 'bcr_flag', 'tcr_flag', 'RNA.weight', 'ADT.weight', 'annotation_figure_1', 'annotation_prob', 'UMAP_1_level_1', 'UMAP_2_level_1'\n",
       "    var: 'vst.mean', 'vst.variance', 'vst.variance.expected', 'vst.variance.standardized', 'vst.variable'\n",
       "    uns: 'neighbors'\n",
       "    obsm: 'X_adt.umap', 'X_harmony_RNA', 'X_pca', 'X_rna.umap', 'X_wnn.umap'\n",
       "    varm: 'HARMONY_RNA', 'PCs'\n",
       "    obsp: 'distances'"
      ]
     },
     "execution_count": 162,
     "metadata": {},
     "output_type": "execute_result"
    }
   ],
   "source": [
    "adata"
   ]
  },
  {
   "cell_type": "markdown",
   "id": "8380cc8d-a938-48a1-b715-e932e216b9a3",
   "metadata": {},
   "source": [
    "In `.X` we have some form of normalization and scaling "
   ]
  },
  {
   "cell_type": "code",
   "execution_count": 163,
   "id": "977f01cf-bdf1-4245-9e33-2812feeeeabf",
   "metadata": {},
   "outputs": [
    {
     "data": {
      "text/plain": [
       "array([[-0.19857288, -0.02244474, -0.02245006, ..., -0.09576895,\n",
       "        -0.01669313, -0.03966082],\n",
       "       [-0.19857288, -0.02244474, -0.02245006, ..., -0.09576895,\n",
       "        -0.01669313, -0.03966082],\n",
       "       [-0.19857288, -0.02244474, -0.02245006, ..., -0.09576895,\n",
       "        -0.01669313, -0.03966082],\n",
       "       ...,\n",
       "       [ 6.9431813 , -0.02244474, -0.02245006, ..., -0.09576895,\n",
       "        -0.01669313, -0.03966082],\n",
       "       [-0.19857288, -0.02244474, -0.02245006, ..., -0.09576895,\n",
       "        -0.01669313, -0.03966082],\n",
       "       [-0.19857288, -0.02244474, -0.02245006, ..., -0.09576895,\n",
       "        -0.01669313, -0.03966082]])"
      ]
     },
     "execution_count": 163,
     "metadata": {},
     "output_type": "execute_result"
    }
   ],
   "source": [
    "adata.X"
   ]
  },
  {
   "cell_type": "markdown",
   "id": "2c968084-5218-4ee5-832f-9afba39cb287",
   "metadata": {},
   "source": [
    "Check gene names "
   ]
  },
  {
   "cell_type": "code",
   "execution_count": 164,
   "id": "3f467457-7868-4f62-8431-440d23f6af1e",
   "metadata": {},
   "outputs": [
    {
     "data": {
      "text/html": [
       "<div>\n",
       "<style scoped>\n",
       "    .dataframe tbody tr th:only-of-type {\n",
       "        vertical-align: middle;\n",
       "    }\n",
       "\n",
       "    .dataframe tbody tr th {\n",
       "        vertical-align: top;\n",
       "    }\n",
       "\n",
       "    .dataframe thead th {\n",
       "        text-align: right;\n",
       "    }\n",
       "</style>\n",
       "<table border=\"1\" class=\"dataframe\">\n",
       "  <thead>\n",
       "    <tr style=\"text-align: right;\">\n",
       "      <th></th>\n",
       "      <th>vst.mean</th>\n",
       "      <th>vst.variance</th>\n",
       "      <th>vst.variance.expected</th>\n",
       "      <th>vst.variance.standardized</th>\n",
       "      <th>vst.variable</th>\n",
       "    </tr>\n",
       "  </thead>\n",
       "  <tbody>\n",
       "    <tr>\n",
       "      <th>ISG15</th>\n",
       "      <td>0.047287</td>\n",
       "      <td>0.060800</td>\n",
       "      <td>0.056220</td>\n",
       "      <td>1.081457</td>\n",
       "      <td>1</td>\n",
       "    </tr>\n",
       "    <tr>\n",
       "      <th>TNFRSF4</th>\n",
       "      <td>0.000559</td>\n",
       "      <td>0.000605</td>\n",
       "      <td>0.000584</td>\n",
       "      <td>1.035873</td>\n",
       "      <td>1</td>\n",
       "    </tr>\n",
       "    <tr>\n",
       "      <th>TAS1R1</th>\n",
       "      <td>0.000559</td>\n",
       "      <td>0.000605</td>\n",
       "      <td>0.000584</td>\n",
       "      <td>1.035873</td>\n",
       "      <td>1</td>\n",
       "    </tr>\n",
       "    <tr>\n",
       "      <th>UTS2</th>\n",
       "      <td>0.000326</td>\n",
       "      <td>0.000373</td>\n",
       "      <td>0.000335</td>\n",
       "      <td>1.113656</td>\n",
       "      <td>1</td>\n",
       "    </tr>\n",
       "    <tr>\n",
       "      <th>TNFRSF9</th>\n",
       "      <td>0.004426</td>\n",
       "      <td>0.009811</td>\n",
       "      <td>0.004872</td>\n",
       "      <td>2.013715</td>\n",
       "      <td>1</td>\n",
       "    </tr>\n",
       "    <tr>\n",
       "      <th>...</th>\n",
       "      <td>...</td>\n",
       "      <td>...</td>\n",
       "      <td>...</td>\n",
       "      <td>...</td>\n",
       "      <td>...</td>\n",
       "    </tr>\n",
       "    <tr>\n",
       "      <th>MT-CO1</th>\n",
       "      <td>16.488178</td>\n",
       "      <td>348.525024</td>\n",
       "      <td>248.929271</td>\n",
       "      <td>1.400097</td>\n",
       "      <td>1</td>\n",
       "    </tr>\n",
       "    <tr>\n",
       "      <th>AC233755.2</th>\n",
       "      <td>0.448368</td>\n",
       "      <td>184.273430</td>\n",
       "      <td>1.176818</td>\n",
       "      <td>36.291051</td>\n",
       "      <td>1</td>\n",
       "    </tr>\n",
       "    <tr>\n",
       "      <th>AC233755.1</th>\n",
       "      <td>0.086841</td>\n",
       "      <td>13.274466</td>\n",
       "      <td>0.111977</td>\n",
       "      <td>15.876514</td>\n",
       "      <td>1</td>\n",
       "    </tr>\n",
       "    <tr>\n",
       "      <th>AC136616.2</th>\n",
       "      <td>0.000676</td>\n",
       "      <td>0.004262</td>\n",
       "      <td>0.000709</td>\n",
       "      <td>2.280865</td>\n",
       "      <td>1</td>\n",
       "    </tr>\n",
       "    <tr>\n",
       "      <th>AC141272.1</th>\n",
       "      <td>0.010832</td>\n",
       "      <td>0.256661</td>\n",
       "      <td>0.011951</td>\n",
       "      <td>9.424149</td>\n",
       "      <td>1</td>\n",
       "    </tr>\n",
       "  </tbody>\n",
       "</table>\n",
       "<p>2000 rows × 5 columns</p>\n",
       "</div>"
      ],
      "text/plain": [
       "             vst.mean  vst.variance  vst.variance.expected  \\\n",
       "ISG15        0.047287      0.060800               0.056220   \n",
       "TNFRSF4      0.000559      0.000605               0.000584   \n",
       "TAS1R1       0.000559      0.000605               0.000584   \n",
       "UTS2         0.000326      0.000373               0.000335   \n",
       "TNFRSF9      0.004426      0.009811               0.004872   \n",
       "...               ...           ...                    ...   \n",
       "MT-CO1      16.488178    348.525024             248.929271   \n",
       "AC233755.2   0.448368    184.273430               1.176818   \n",
       "AC233755.1   0.086841     13.274466               0.111977   \n",
       "AC136616.2   0.000676      0.004262               0.000709   \n",
       "AC141272.1   0.010832      0.256661               0.011951   \n",
       "\n",
       "            vst.variance.standardized  vst.variable  \n",
       "ISG15                        1.081457             1  \n",
       "TNFRSF4                      1.035873             1  \n",
       "TAS1R1                       1.035873             1  \n",
       "UTS2                         1.113656             1  \n",
       "TNFRSF9                      2.013715             1  \n",
       "...                               ...           ...  \n",
       "MT-CO1                       1.400097             1  \n",
       "AC233755.2                  36.291051             1  \n",
       "AC233755.1                  15.876514             1  \n",
       "AC136616.2                   2.280865             1  \n",
       "AC141272.1                   9.424149             1  \n",
       "\n",
       "[2000 rows x 5 columns]"
      ]
     },
     "execution_count": 164,
     "metadata": {},
     "output_type": "execute_result"
    }
   ],
   "source": [
    "adata.var"
   ]
  },
  {
   "cell_type": "markdown",
   "id": "815073c6-b4e7-4da6-b425-6f8b7b303e5f",
   "metadata": {},
   "source": [
    "The rest is normalized and log-transformed "
   ]
  },
  {
   "cell_type": "code",
   "execution_count": 165,
   "id": "7212a2c9-aed0-4aa9-8aa8-bf509810e136",
   "metadata": {},
   "outputs": [
    {
     "data": {
      "text/plain": [
       "matrix([[5.00004709],\n",
       "        [5.76415739],\n",
       "        [5.78143954],\n",
       "        ...,\n",
       "        [5.42771665],\n",
       "        [6.1615999 ],\n",
       "        [5.61112635]])"
      ]
     },
     "execution_count": 165,
     "metadata": {},
     "output_type": "execute_result"
    }
   ],
   "source": [
    "adata.raw.X.max(1).todense()"
   ]
  },
  {
   "cell_type": "code",
   "execution_count": 166,
   "id": "3bba2d90-bab8-4ccb-9d1e-d5b490e78998",
   "metadata": {},
   "outputs": [
    {
     "data": {
      "text/plain": [
       "matrix([[10000.],\n",
       "        [10000.],\n",
       "        [10000.],\n",
       "        ...,\n",
       "        [10000.],\n",
       "        [10000.],\n",
       "        [10000.]])"
      ]
     },
     "execution_count": 166,
     "metadata": {},
     "output_type": "execute_result"
    }
   ],
   "source": [
    "(np.exp(adata.raw.X.todense())-1).sum(1)"
   ]
  },
  {
   "cell_type": "markdown",
   "id": "3895dee8-4b23-46b1-9580-ecbacda055a7",
   "metadata": {},
   "source": [
    "Options for reconstruction: \n",
    "* Unnormalized and negative binomial \n",
    "* Normalized and Gaussian "
   ]
  },
  {
   "cell_type": "markdown",
   "id": "53e95620-97a9-4400-a69e-52c73abff5b7",
   "metadata": {},
   "source": [
    "Check the negative binomial assumption on unnormalized counts "
   ]
  },
  {
   "cell_type": "code",
   "execution_count": 167,
   "id": "b8b739ad-974b-4852-8f08-1b97bf26c58a",
   "metadata": {},
   "outputs": [],
   "source": [
    "X_unnormalized = np.exp(adata.raw.X.toarray())-1"
   ]
  },
  {
   "cell_type": "code",
   "execution_count": 168,
   "id": "7a0532f9-474f-490d-84db-7603876e6f1b",
   "metadata": {},
   "outputs": [
    {
     "data": {
      "image/png": "[encoded data removed]",
      "text/plain": [
       "<Figure size 400x400 with 1 Axes>"
      ]
     },
     "metadata": {},
     "output_type": "display_data"
    }
   ],
   "source": [
    "plt.figure(figsize=(4,4))\n",
    "plt.scatter(X_unnormalized.mean(0), X_unnormalized.std(0))\n",
    "plt.show()"
   ]
  },
  {
   "cell_type": "code",
   "execution_count": 169,
   "id": "da895f31-ad31-46d5-93d9-4ed4ae6f3702",
   "metadata": {},
   "outputs": [
    {
     "data": {
      "text/plain": [
       "(17288,)"
      ]
     },
     "execution_count": 169,
     "metadata": {},
     "output_type": "execute_result"
    }
   ],
   "source": [
    "X_unnormalized.mean(0).shape"
   ]
  },
  {
   "cell_type": "markdown",
   "id": "c3545007-dc82-4590-a276-e85c9b2ae618",
   "metadata": {},
   "source": [
    "## Prepare the adata and launch "
   ]
  },
  {
   "cell_type": "code",
   "execution_count": 170,
   "id": "aad681f9-0dd8-47df-bfa3-081c69841bd8",
   "metadata": {},
   "outputs": [
    {
     "name": "stderr",
     "output_type": "stream",
     "text": [
      "/home/icb/alessandro.palma/miniconda3/envs/sc_exp_design/lib/python3.10/site-packages/anndata/compat/__init__.py:363: FutureWarning: Moving element from .uns['neighbors']['distances'] to .obsp['distances'].\n",
      "\n",
      "This is where adjacency matrices should go now.\n",
      "  warn(\n"
     ]
    }
   ],
   "source": [
    "adata = sc.read_h5ad(\"/home/icb/alessandro.palma/environment/scportrait_ot/project_folder/data/citeseq/CITEseq_rna.h5ad\")"
   ]
  },
  {
   "cell_type": "markdown",
   "id": "37e84a73-d58b-499b-a286-85ac79c34217",
   "metadata": {},
   "source": [
    "Log-norm"
   ]
  },
  {
   "cell_type": "code",
   "execution_count": 171,
   "id": "340302fa-dc9e-4f5e-867a-093e53c7b8d8",
   "metadata": {},
   "outputs": [],
   "source": [
    "adata.layers[\"X_normalized_log\"] = adata.raw[:, adata.var.index].X.copy()"
   ]
  },
  {
   "cell_type": "code",
   "execution_count": 172,
   "id": "87dd402f-25a3-4537-bf78-0f2a9d826fcd",
   "metadata": {
    "scrolled": true
   },
   "outputs": [
    {
     "data": {
      "text/plain": [
       "array([[0.        , 0.        , 0.        , ..., 0.        , 0.        ,\n",
       "        0.        ],\n",
       "       [0.        , 0.        , 0.        , ..., 0.        , 0.        ,\n",
       "        0.        ],\n",
       "       [0.        , 0.        , 0.        , ..., 0.        , 0.        ,\n",
       "        0.        ],\n",
       "       ...,\n",
       "       [2.71894437, 0.        , 0.        , ..., 0.        , 0.        ,\n",
       "        0.        ],\n",
       "       [0.        , 0.        , 0.        , ..., 0.        , 0.        ,\n",
       "        0.        ],\n",
       "       [0.        , 0.        , 0.        , ..., 0.        , 0.        ,\n",
       "        0.        ]])"
      ]
     },
     "execution_count": 172,
     "metadata": {},
     "output_type": "execute_result"
    }
   ],
   "source": [
    "adata.layers[\"X_normalized_log\"].toarray()"
   ]
  },
  {
   "cell_type": "markdown",
   "id": "455c6f7b-e7fb-4edc-b0a3-9c19ef363ff8",
   "metadata": {},
   "source": [
    "10k Norm"
   ]
  },
  {
   "cell_type": "code",
   "execution_count": 173,
   "id": "45780e9f-f57f-4007-acac-c5d966112ff7",
   "metadata": {},
   "outputs": [],
   "source": [
    "adata.layers[\"X_normalized_10k\"] = csr_matrix(np.exp(adata.raw[:, adata.var.index].X.copy().toarray()) - 1)"
   ]
  },
  {
   "cell_type": "code",
   "execution_count": 174,
   "id": "65a3fd70-3339-481c-9968-35e71779f137",
   "metadata": {},
   "outputs": [
    {
     "data": {
      "text/plain": [
       "matrix([[147.42014742],\n",
       "        [317.67041694],\n",
       "        [323.22559147],\n",
       "        ...,\n",
       "        [212.46458924],\n",
       "        [473.18611987],\n",
       "        [272.45206862]])"
      ]
     },
     "execution_count": 174,
     "metadata": {},
     "output_type": "execute_result"
    }
   ],
   "source": [
    "adata.layers[\"X_normalized_10k\"].todense().max(1)"
   ]
  },
  {
   "cell_type": "code",
   "execution_count": 175,
   "id": "b2b8d98c-82e0-4a22-a86d-c2b234d1b42b",
   "metadata": {},
   "outputs": [
    {
     "data": {
      "text/plain": [
       "matrix([[5.00004709],\n",
       "        [5.76415739],\n",
       "        [5.78143954],\n",
       "        ...,\n",
       "        [5.36347096],\n",
       "        [6.1615999 ],\n",
       "        [5.61112635]])"
      ]
     },
     "execution_count": 175,
     "metadata": {},
     "output_type": "execute_result"
    }
   ],
   "source": [
    "adata.layers[\"X_normalized_log\"].todense().max(1)"
   ]
  },
  {
   "cell_type": "markdown",
   "id": "bccb55a4-bc3b-41ca-ace8-891f3cbbd7ff",
   "metadata": {},
   "source": [
    "Save results"
   ]
  },
  {
   "cell_type": "code",
   "execution_count": 176,
   "id": "90ff0218-3c98-4318-8e89-12273dc58be8",
   "metadata": {},
   "outputs": [],
   "source": [
    "adata.write_h5ad(\"/home/icb/alessandro.palma/environment/scportrait_ot/project_folder/data/citeseq/CITEseq_rna_processed.h5ad\")"
   ]
  },
  {
   "cell_type": "code",
   "execution_count": 177,
   "id": "274ca6a9-d983-4234-aa7f-b65b8b30b6f6",
   "metadata": {},
   "outputs": [
    {
     "data": {
      "text/plain": [
       "AnnData object with n_obs × n_vars = 42929 × 2000\n",
       "    obs: 'barcode', 'donor_id', 'subproject', 'gem_id', 'assay', 'sex', 'age', 'age_group', 'hospital', 'nCount_RNA', 'nCount_ADT', 'nFeature_ADT', 'nFeature_RNA', 'pct_mt', 'pct_ribosomal', 'scrublet_doublet_scores', 'scrublet_predicted_doublet', 'S.Score', 'G2M.Score', 'Phase', 'UMAP_1_20220215', 'UMAP_2_20220215', 'bcr_flag', 'tcr_flag', 'RNA.weight', 'ADT.weight', 'annotation_figure_1', 'annotation_prob', 'UMAP_1_level_1', 'UMAP_2_level_1'\n",
       "    var: 'vst.mean', 'vst.variance', 'vst.variance.expected', 'vst.variance.standardized', 'vst.variable'\n",
       "    uns: 'neighbors'\n",
       "    obsm: 'X_adt.umap', 'X_harmony_RNA', 'X_pca', 'X_rna.umap', 'X_wnn.umap'\n",
       "    varm: 'HARMONY_RNA', 'PCs'\n",
       "    layers: 'X_normalized_log', 'X_normalized_10k'\n",
       "    obsp: 'distances'"
      ]
     },
     "execution_count": 177,
     "metadata": {},
     "output_type": "execute_result"
    }
   ],
   "source": [
    "adata"
   ]
  },
  {
   "cell_type": "markdown",
   "id": "8bfa2e39-89c4-4bcb-b958-bfe9fbc9521f",
   "metadata": {},
   "source": [
    "## Whole genome "
   ]
  },
  {
   "cell_type": "code",
   "execution_count": 180,
   "id": "86f5d398-7a0c-498e-92cc-4eb021106366",
   "metadata": {},
   "outputs": [
    {
     "name": "stderr",
     "output_type": "stream",
     "text": [
      "/home/icb/alessandro.palma/miniconda3/envs/sc_exp_design/lib/python3.10/site-packages/anndata/compat/__init__.py:363: FutureWarning: Moving element from .uns['neighbors']['distances'] to .obsp['distances'].\n",
      "\n",
      "This is where adjacency matrices should go now.\n",
      "  warn(\n"
     ]
    }
   ],
   "source": [
    "adata = sc.read_h5ad(\"/home/icb/alessandro.palma/environment/scportrait_ot/project_folder/data/citeseq/CITEseq_rna.h5ad\")"
   ]
  },
  {
   "cell_type": "code",
   "execution_count": 181,
   "id": "1a3cce27-af02-493b-b3b0-3532e213fb6d",
   "metadata": {},
   "outputs": [],
   "source": [
    "new_adata = sc.AnnData(X=csr_matrix(adata.raw.X.copy()), \n",
    "                      var=adata.raw.var.copy(), \n",
    "                      obs=adata.obs.copy(), \n",
    "                      obsm=adata.obsm.copy())"
   ]
  },
  {
   "cell_type": "code",
   "execution_count": 182,
   "id": "8fdc0a1c-887c-4393-b8ac-fa3f55fb70dd",
   "metadata": {},
   "outputs": [],
   "source": [
    "new_adata.layers['X_normalized_log'] = new_adata.X.copy()"
   ]
  },
  {
   "cell_type": "code",
   "execution_count": 183,
   "id": "aee2b72d-8788-4054-80d6-0d171be140f5",
   "metadata": {},
   "outputs": [],
   "source": [
    "new_adata.layers['X_normalized_10k'] = csr_matrix(np.exp(new_adata.X.toarray()) - 1)"
   ]
  },
  {
   "cell_type": "code",
   "execution_count": 184,
   "id": "029851c3-071b-44bd-a320-d87fcdc160d1",
   "metadata": {},
   "outputs": [],
   "source": [
    "new_adata.write_h5ad(\"/home/icb/alessandro.palma/environment/scportrait_ot/project_folder/data/citeseq/CITEseq_rna_processed_full_genome.h5ad\")"
   ]
  },
  {
   "cell_type": "markdown",
   "id": "ae5e4692-24c7-4c64-b750-d397715d2274",
   "metadata": {},
   "source": [
    "Check results"
   ]
  },
  {
   "cell_type": "code",
   "execution_count": 185,
   "id": "30ac7341-d4f7-4fff-9571-e864f27254d8",
   "metadata": {},
   "outputs": [],
   "source": [
    "new_adata = sc.read_h5ad(\"/home/icb/alessandro.palma/environment/scportrait_ot/project_folder/data/citeseq/CITEseq_rna_processed_full_genome.h5ad\")"
   ]
  },
  {
   "cell_type": "code",
   "execution_count": 191,
   "id": "9ee55a21-865a-4967-9f17-ba284be96b6e",
   "metadata": {},
   "outputs": [
    {
     "data": {
      "text/plain": [
       "array([147.42014742, 317.67041694, 323.22559147, ..., 226.62889518,\n",
       "       473.18611987, 272.45206862])"
      ]
     },
     "execution_count": 191,
     "metadata": {},
     "output_type": "execute_result"
    }
   ],
   "source": [
    "new_adata.layers[\"X_normalized_10k\"].toarray().max(1)"
   ]
  },
  {
   "cell_type": "code",
   "execution_count": 192,
   "id": "3a948f21-40ad-485b-8ae8-759172b4d02a",
   "metadata": {},
   "outputs": [
    {
     "data": {
      "text/plain": [
       "array([5.00004709, 5.76415739, 5.78143954, ..., 5.42771665, 6.1615999 ,\n",
       "       5.61112635])"
      ]
     },
     "execution_count": 192,
     "metadata": {},
     "output_type": "execute_result"
    }
   ],
   "source": [
    "new_adata.layers[\"X_normalized_log\"].toarray().max(1)"
   ]
  },
  {
   "cell_type": "code",
   "execution_count": null,
   "id": "2e1433cb-d4c7-466b-803e-a9b4640f239b",
   "metadata": {},
   "outputs": [],
   "source": []
  }
 ],
 "metadata": {
  "kernelspec": {
   "display_name": "Python 3 (ipykernel)",
   "language": "python",
   "name": "python3"
  },
  "language_info": {
   "codemirror_mode": {
    "name": "ipython",
    "version": 3
   },
   "file_extension": ".py",
   "mimetype": "text/x-python",
   "name": "python",
   "nbconvert_exporter": "python",
   "pygments_lexer": "ipython3",
   "version": "3.10.16"
  }
 },
 "nbformat": 4,
 "nbformat_minor": 5
}
