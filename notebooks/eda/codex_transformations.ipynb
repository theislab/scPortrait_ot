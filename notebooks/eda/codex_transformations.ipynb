{
 "cells": [
  {
   "cell_type": "code",
   "execution_count": 1,
   "id": "6ecf4dc0-7066-4ac9-a13f-6e790ea85f17",
   "metadata": {},
   "outputs": [],
   "source": [
    "import scanpy as sc\n",
    "import numpy as np\n",
    "import pandas as pd\n",
    "import seaborn as sns\n",
    "import matplotlib.pyplot as plt\n",
    "from scipy.spatial.distance import cdist\n",
    "from tqdm import tqdm\n",
    "from sklearn import preprocessing"
   ]
  },
  {
   "cell_type": "markdown",
   "id": "429a2f6c-1ec0-41d7-89e9-7c2027d01d30",
   "metadata": {},
   "source": [
    "## CITE seq"
   ]
  },
  {
   "cell_type": "code",
   "execution_count": 2,
   "id": "de7c93ac-6443-46b5-a412-40f6f3fdc8d0",
   "metadata": {},
   "outputs": [],
   "source": [
    "# Read the healthy citeseq dataset \n",
    "healthy_codex_cite = sc.read_h5ad(\"/home/icb/alessandro.palma/environment/scportrait_ot/project_folder/data/codex/citeseq/cellfeaturization_results_healthy_processed.h5ad\")\n",
    "tonsilitis_codex_cite = sc.read_h5ad(\"/home/icb/alessandro.palma/environment/scportrait_ot/project_folder/data/codex/citeseq/cellfeaturization_results_tonsilitis_processed.h5ad\")"
   ]
  },
  {
   "cell_type": "markdown",
   "id": "710d73b7-a459-4885-b785-631b447d1008",
   "metadata": {},
   "source": [
    "Scale the features"
   ]
  },
  {
   "cell_type": "code",
   "execution_count": 3,
   "id": "28a53642-d7b6-4852-a431-6a9f525792a8",
   "metadata": {},
   "outputs": [
    {
     "data": {
      "text/plain": [
       "array([[-1.0874388 , -3.046413  , -0.92486566, ..., -1.2126375 ,\n",
       "        -2.4383569 , -0.8761074 ],\n",
       "       [-0.8963065 , -2.01362   , -0.37918943, ..., -0.5467276 ,\n",
       "        -1.0255988 , -0.44730237],\n",
       "       [-0.8613775 , -1.8419701 , -0.8103915 , ..., -0.24657801,\n",
       "        -1.3101273 ,  0.04025251],\n",
       "       ...,\n",
       "       [-0.9048315 , -1.7465267 , -0.7572166 , ..., -1.189934  ,\n",
       "        -1.766531  , -0.45462698],\n",
       "       [-0.8749196 , -1.9343331 , -0.72375256, ..., -1.2660115 ,\n",
       "        -2.1281033 , -0.2599198 ],\n",
       "       [-1.0275111 , -2.3109984 , -0.94315714, ..., -1.3219851 ,\n",
       "        -2.2932289 , -0.6329917 ]], dtype=float32)"
      ]
     },
     "execution_count": 3,
     "metadata": {},
     "output_type": "execute_result"
    }
   ],
   "source": [
    "scaler = preprocessing.StandardScaler()\n",
    "healthy_codex_cite.X = scaler.fit_transform(healthy_codex_cite.X)\n",
    "healthy_codex_cite.X"
   ]
  },
  {
   "cell_type": "code",
   "execution_count": 4,
   "id": "f7aad251-8ef2-4d52-b244-42aef891dc28",
   "metadata": {},
   "outputs": [
    {
     "data": {
      "text/plain": [
       "array([[-0.19833429,  0.07003807, -0.15343954, ..., -0.14249988,\n",
       "        -0.09922125,  0.790859  ],\n",
       "       [-0.35503605, -0.61790895,  0.13720253, ..., -0.56700057,\n",
       "        -0.8516759 , -0.10697756],\n",
       "       [-0.83229214, -1.4575107 , -0.9057591 , ..., -0.7915901 ,\n",
       "        -1.2518826 , -0.9404921 ],\n",
       "       ...,\n",
       "       [-1.04803   , -1.4431874 , -1.0732057 , ..., -0.89116234,\n",
       "        -1.3545104 , -0.4617932 ],\n",
       "       [-0.78646445, -0.9560645 , -0.6562339 , ..., -0.65310097,\n",
       "        -0.5761328 , -0.3932631 ],\n",
       "       [-0.58257365, -0.02194658, -0.6678434 , ...,  0.04630184,\n",
       "         0.21339326,  0.04333021]], dtype=float32)"
      ]
     },
     "execution_count": 4,
     "metadata": {},
     "output_type": "execute_result"
    }
   ],
   "source": [
    "scaler = preprocessing.StandardScaler()\n",
    "tonsilitis_codex_cite.X = scaler.fit_transform(tonsilitis_codex_cite.X)\n",
    "tonsilitis_codex_cite.X"
   ]
  },
  {
   "cell_type": "code",
   "execution_count": 5,
   "id": "6fdcef23-60d7-411f-baa6-9b8001812b05",
   "metadata": {},
   "outputs": [],
   "source": [
    "healthy_codex_cite.write_h5ad(\"/home/icb/alessandro.palma/environment/scportrait_ot/project_folder/data/codex/citeseq/cellfeaturization_results_healthy_processed_std.h5ad\") \n",
    "tonsilitis_codex_cite.write_h5ad(\"/home/icb/alessandro.palma/environment/scportrait_ot/project_folder/data/codex/citeseq/cellfeaturization_results_tonsilitis_std.h5ad\")"
   ]
  },
  {
   "cell_type": "code",
   "execution_count": 6,
   "id": "5196a196-45f2-4003-8c2f-49e179dbb61f",
   "metadata": {},
   "outputs": [
    {
     "data": {
      "text/plain": [
       "array([[-1.0874388 , -3.046413  , -0.92486566, ..., -1.2126375 ,\n",
       "        -2.4383569 , -0.8761074 ],\n",
       "       [-0.8963065 , -2.01362   , -0.37918943, ..., -0.5467276 ,\n",
       "        -1.0255988 , -0.44730237],\n",
       "       [-0.8613775 , -1.8419701 , -0.8103915 , ..., -0.24657801,\n",
       "        -1.3101273 ,  0.04025251],\n",
       "       ...,\n",
       "       [-0.9048315 , -1.7465267 , -0.7572166 , ..., -1.189934  ,\n",
       "        -1.766531  , -0.45462698],\n",
       "       [-0.8749196 , -1.9343331 , -0.72375256, ..., -1.2660115 ,\n",
       "        -2.1281033 , -0.2599198 ],\n",
       "       [-1.0275111 , -2.3109984 , -0.94315714, ..., -1.3219851 ,\n",
       "        -2.2932289 , -0.6329917 ]], dtype=float32)"
      ]
     },
     "execution_count": 6,
     "metadata": {},
     "output_type": "execute_result"
    }
   ],
   "source": [
    "healthy_codex_cite.X"
   ]
  },
  {
   "cell_type": "code",
   "execution_count": 7,
   "id": "2795f0ef-a88f-4b1e-84cb-a4817aacc8a5",
   "metadata": {},
   "outputs": [
    {
     "data": {
      "text/plain": [
       "array([[-0.19833429,  0.07003807, -0.15343954, ..., -0.14249988,\n",
       "        -0.09922125,  0.790859  ],\n",
       "       [-0.35503605, -0.61790895,  0.13720253, ..., -0.56700057,\n",
       "        -0.8516759 , -0.10697756],\n",
       "       [-0.83229214, -1.4575107 , -0.9057591 , ..., -0.7915901 ,\n",
       "        -1.2518826 , -0.9404921 ],\n",
       "       ...,\n",
       "       [-1.04803   , -1.4431874 , -1.0732057 , ..., -0.89116234,\n",
       "        -1.3545104 , -0.4617932 ],\n",
       "       [-0.78646445, -0.9560645 , -0.6562339 , ..., -0.65310097,\n",
       "        -0.5761328 , -0.3932631 ],\n",
       "       [-0.58257365, -0.02194658, -0.6678434 , ...,  0.04630184,\n",
       "         0.21339326,  0.04333021]], dtype=float32)"
      ]
     },
     "execution_count": 7,
     "metadata": {},
     "output_type": "execute_result"
    }
   ],
   "source": [
    "tonsilitis_codex_cite.X"
   ]
  },
  {
   "cell_type": "code",
   "execution_count": null,
   "id": "3918f3e9-694a-4590-8f0b-89033affeb94",
   "metadata": {},
   "outputs": [],
   "source": []
  },
  {
   "cell_type": "code",
   "execution_count": null,
   "id": "3d9e0283-6e74-45be-94ee-abebdc19a641",
   "metadata": {},
   "outputs": [],
   "source": []
  },
  {
   "cell_type": "code",
   "execution_count": null,
   "id": "9c6ed741-5268-4f2f-a120-8b5a4f818a58",
   "metadata": {},
   "outputs": [],
   "source": []
  }
 ],
 "metadata": {
  "kernelspec": {
   "display_name": "Python 3 (ipykernel)",
   "language": "python",
   "name": "python3"
  },
  "language_info": {
   "codemirror_mode": {
    "name": "ipython",
    "version": 3
   },
   "file_extension": ".py",
   "mimetype": "text/x-python",
   "name": "python",
   "nbconvert_exporter": "python",
   "pygments_lexer": "ipython3",
   "version": "3.10.16"
  }
 },
 "nbformat": 4,
 "nbformat_minor": 5
}
